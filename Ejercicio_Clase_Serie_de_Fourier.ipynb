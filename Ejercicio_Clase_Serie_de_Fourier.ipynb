{
  "nbformat": 4,
  "nbformat_minor": 0,
  "metadata": {
    "colab": {
      "private_outputs": true,
      "provenance": [],
      "authorship_tag": "ABX9TyNmeUhRReQKFOXfjHqTmDBV",
      "include_colab_link": true
    },
    "kernelspec": {
      "name": "python3",
      "display_name": "Python 3"
    },
    "language_info": {
      "name": "python"
    }
  },
  "cells": [
    {
      "cell_type": "markdown",
      "metadata": {
        "id": "view-in-github",
        "colab_type": "text"
      },
      "source": [
        "<a href=\"https://colab.research.google.com/github/Leandro2402-bit/Senales-Sistemas/blob/main/Ejercicio_Clase_Serie_de_Fourier.ipynb\" target=\"_parent\"><img src=\"https://colab.research.google.com/assets/colab-badge.svg\" alt=\"Open In Colab\"/></a>"
      ]
    },
    {
      "cell_type": "code",
      "execution_count": null,
      "metadata": {
        "id": "wb33xV13JHWM"
      },
      "outputs": [],
      "source": [
        "# Ejercicio programado de la funcion x(t)= Arect(t)    con t [-tao/2, +tao/2]\n",
        "import numpy as np\n",
        "import matplotlib.pyplot as plt\n",
        "\n",
        "# Parámetros de la señal\n",
        "A = 1       # Amplitud\n",
        "tau = 2*np.pi  # Periodo\n",
        "T = tau\n",
        "w0 = 2 * np.pi / T\n",
        "\n",
        "# Dominio de tiempo\n",
        "t = np.linspace(-T, T, 1000)\n",
        "\n",
        "# Función original x(t)\n",
        "def x_original(t):\n",
        "    return A * ((t >= -T/4) & (t <= T/4))\n",
        "\n",
        "# Coeficiente an\n",
        "def an(n):\n",
        "    if n == 0:\n",
        "        return A / 2\n",
        "    else:\n",
        "        return (2*A)/(np.pi*n) * np.sin(np.pi*n/2)\n",
        "\n",
        "# Aproximación de la serie de Fourier (hasta N términos)\n",
        "def fourier_series(t, N):\n",
        "    result = an(0) * np.ones_like(t)  # a0\n",
        "    for n in range(1, N+1):\n",
        "        result += an(n) * np.cos(n * w0 * t)\n",
        "    return result\n",
        "\n",
        "# Número de armónicos\n",
        "N = 10  # Se puede probar con 5, 10, 20...\n",
        "\n",
        "# Evaluar funciones\n",
        "xt = x_original(t)\n",
        "xt_fourier = fourier_series(t, N)\n",
        "\n",
        "# Gráfica\n",
        "plt.figure(figsize=(10, 5))\n",
        "plt.plot(t, xt, label='Señal original $x(t)$', linewidth=2)\n",
        "plt.plot(t, xt_fourier, '--', label=f'Aproximación con N={N}', linewidth=2)\n",
        "plt.title('Serie de Fourier Trigonométrica de una señal rectangular')\n",
        "plt.xlabel('Tiempo $t$')\n",
        "plt.ylabel('Amplitud')\n",
        "plt.grid(True)\n",
        "plt.legend()\n",
        "plt.tight_layout()\n",
        "plt.show()\n"
      ]
    },
    {
      "cell_type": "code",
      "source": [
        "#Ejercicio de la funcion x(t) en forma de triangulo. con t [-tao/2, +tao/2]\n",
        "\n",
        "import numpy as np\n",
        "import matplotlib.pyplot as plt\n",
        "\n",
        "# Parámetros\n",
        "B = 1           # Altura del triángulo\n",
        "tau = 2 * np.pi  # Período\n",
        "N = 20          # Número de armónicos\n",
        "\n",
        "# Dominio temporal\n",
        "t = np.linspace(-tau, tau, 1000)\n",
        "\n",
        "# Función base de Fourier\n",
        "def a_n(n):\n",
        "    return (4 * B / (np.pi**2 * n**2)) * (1 - np.cos(n * np.pi / 2))\n",
        "\n",
        "def fourier_series(t, N):\n",
        "    result = B / 2  # a_0 / 2\n",
        "    for n in range(1, N+1):\n",
        "        an = a_n(n)\n",
        "        result += an * np.cos(2 * np.pi * n * t / tau)\n",
        "    return result\n",
        "\n",
        "# Valor de la función original (triángulo entre -tau/4 y tau/4)\n",
        "def x_original(t):\n",
        "    x = np.zeros_like(t)\n",
        "    for i in range(len(t)):\n",
        "        if -tau/4 <= t[i] < 0:\n",
        "            x[i] = (4*B/tau) * t[i] + B\n",
        "        elif 0 <= t[i] <= tau/4:\n",
        "            x[i] = -(4*B/tau) * t[i] + B\n",
        "    return x\n",
        "\n",
        "# Evaluar funciones\n",
        "x_approx = fourier_series(t, N)\n",
        "x_true = x_original(t)\n",
        "\n",
        "# Graficar\n",
        "plt.figure(figsize=(10, 5))\n",
        "plt.plot(t, x_true, label='x(t) original', linewidth=2)\n",
        "plt.plot(t, x_approx, label=f'Serie de Fourier (N={N})', linestyle='--')\n",
        "plt.title('Aproximación por Serie de Fourier')\n",
        "plt.xlabel('t')\n",
        "plt.ylabel('x(t)')\n",
        "plt.grid(True)\n",
        "plt.legend()\n",
        "plt.show()\n"
      ],
      "metadata": {
        "id": "kEhQH87sdyqg"
      },
      "execution_count": null,
      "outputs": []
    }
  ]
}